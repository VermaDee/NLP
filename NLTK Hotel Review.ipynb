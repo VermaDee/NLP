{
 "cells": [
  {
   "cell_type": "code",
   "execution_count": 1,
   "id": "26a5cda3",
   "metadata": {},
   "outputs": [
    {
     "data": {
      "text/html": [
       "<div>\n",
       "<style scoped>\n",
       "    .dataframe tbody tr th:only-of-type {\n",
       "        vertical-align: middle;\n",
       "    }\n",
       "\n",
       "    .dataframe tbody tr th {\n",
       "        vertical-align: top;\n",
       "    }\n",
       "\n",
       "    .dataframe thead th {\n",
       "        text-align: right;\n",
       "    }\n",
       "</style>\n",
       "<table border=\"1\" class=\"dataframe\">\n",
       "  <thead>\n",
       "    <tr style=\"text-align: right;\">\n",
       "      <th></th>\n",
       "      <th>Title</th>\n",
       "      <th>PositiveReview</th>\n",
       "      <th>NegativeReview</th>\n",
       "      <th>Score</th>\n",
       "      <th>GuestName</th>\n",
       "      <th>GuestCountry</th>\n",
       "      <th>RoomType</th>\n",
       "      <th>NumberOfNights</th>\n",
       "      <th>VisitDate</th>\n",
       "      <th>GroupType</th>\n",
       "      <th>PropertyResponse</th>\n",
       "    </tr>\n",
       "  </thead>\n",
       "  <tbody>\n",
       "    <tr>\n",
       "      <th>0</th>\n",
       "      <td>Wonderful place to stay.</td>\n",
       "      <td>New, comfortable apartments, close to the airp...</td>\n",
       "      <td>Nothing at all.</td>\n",
       "      <td>10.0</td>\n",
       "      <td>Olga</td>\n",
       "      <td>Norway</td>\n",
       "      <td>Budget Twin Room</td>\n",
       "      <td>1 night</td>\n",
       "      <td>June 2022</td>\n",
       "      <td>Solo traveler</td>\n",
       "      <td>NaN</td>\n",
       "    </tr>\n",
       "    <tr>\n",
       "      <th>1</th>\n",
       "      <td>It was superb</td>\n",
       "      <td>We had a really pleasant stay! The staff was v...</td>\n",
       "      <td>NaN</td>\n",
       "      <td>10.0</td>\n",
       "      <td>Iwona</td>\n",
       "      <td>Poland</td>\n",
       "      <td>Double Room</td>\n",
       "      <td>3 nights</td>\n",
       "      <td>December 2022</td>\n",
       "      <td>Family</td>\n",
       "      <td>NaN</td>\n",
       "    </tr>\n",
       "    <tr>\n",
       "      <th>2</th>\n",
       "      <td>Very Good</td>\n",
       "      <td>the location is great and near the airport. bu...</td>\n",
       "      <td>NaN</td>\n",
       "      <td>8.0</td>\n",
       "      <td>Ruijia</td>\n",
       "      <td>Sweden</td>\n",
       "      <td>Double Room</td>\n",
       "      <td>1 night</td>\n",
       "      <td>December 2022</td>\n",
       "      <td>Solo traveler</td>\n",
       "      <td>NaN</td>\n",
       "    </tr>\n",
       "    <tr>\n",
       "      <th>3</th>\n",
       "      <td>Wonderful</td>\n",
       "      <td>Great stuff\\nGreat Quality/price\\nClean</td>\n",
       "      <td>NaN</td>\n",
       "      <td>9.0</td>\n",
       "      <td>Theprincem</td>\n",
       "      <td>United Kingdom</td>\n",
       "      <td>Double Room with Balcony</td>\n",
       "      <td>2 nights</td>\n",
       "      <td>September 2022</td>\n",
       "      <td>Solo traveler</td>\n",
       "      <td>NaN</td>\n",
       "    </tr>\n",
       "    <tr>\n",
       "      <th>4</th>\n",
       "      <td>Fantastic value for a new, modern and spotless...</td>\n",
       "      <td>Clean and modern with very comfortable beds, i...</td>\n",
       "      <td>NaN</td>\n",
       "      <td>10.0</td>\n",
       "      <td>M</td>\n",
       "      <td>Switzerland</td>\n",
       "      <td>Family Suite with Balcony</td>\n",
       "      <td>1 night</td>\n",
       "      <td>October 2022</td>\n",
       "      <td>Family</td>\n",
       "      <td>NaN</td>\n",
       "    </tr>\n",
       "  </tbody>\n",
       "</table>\n",
       "</div>"
      ],
      "text/plain": [
       "                                               Title  \\\n",
       "0                           Wonderful place to stay.   \n",
       "1                                      It was superb   \n",
       "2                                          Very Good   \n",
       "3                                          Wonderful   \n",
       "4  Fantastic value for a new, modern and spotless...   \n",
       "\n",
       "                                      PositiveReview   NegativeReview  Score  \\\n",
       "0  New, comfortable apartments, close to the airp...  Nothing at all.   10.0   \n",
       "1  We had a really pleasant stay! The staff was v...              NaN   10.0   \n",
       "2  the location is great and near the airport. bu...              NaN    8.0   \n",
       "3            Great stuff\\nGreat Quality/price\\nClean              NaN    9.0   \n",
       "4  Clean and modern with very comfortable beds, i...              NaN   10.0   \n",
       "\n",
       "    GuestName    GuestCountry                   RoomType NumberOfNights  \\\n",
       "0        Olga          Norway           Budget Twin Room        1 night   \n",
       "1       Iwona          Poland                Double Room       3 nights   \n",
       "2      Ruijia          Sweden                Double Room        1 night   \n",
       "3  Theprincem  United Kingdom   Double Room with Balcony       2 nights   \n",
       "4           M     Switzerland  Family Suite with Balcony        1 night   \n",
       "\n",
       "        VisitDate      GroupType PropertyResponse  \n",
       "0       June 2022  Solo traveler              NaN  \n",
       "1   December 2022         Family              NaN  \n",
       "2   December 2022  Solo traveler              NaN  \n",
       "3  September 2022  Solo traveler              NaN  \n",
       "4    October 2022         Family              NaN  "
      ]
     },
     "execution_count": 1,
     "metadata": {},
     "output_type": "execute_result"
    }
   ],
   "source": [
    "import numpy as np\n",
    "import pandas as pd\n",
    "import matplotlib.pyplot as plt\n",
    "import seaborn as sns\n",
    "\n",
    "df = pd.read_csv(\"C:/Users/deevy/Desktop/reviews/La_Veranda_Reviews-2023-01-16.csv\")\n",
    "df.head()"
   ]
  },
  {
   "cell_type": "markdown",
   "id": "0e3b7e5a",
   "metadata": {},
   "source": [
    "# Transforming Data"
   ]
  },
  {
   "cell_type": "code",
   "execution_count": 2,
   "id": "817a9d12",
   "metadata": {},
   "outputs": [
    {
     "data": {
      "text/plain": [
       "(Index(['Title', 'PositiveReview', 'NegativeReview', 'Score', 'GuestName',\n",
       "        'GuestCountry', 'RoomType', 'NumberOfNights', 'VisitDate', 'GroupType',\n",
       "        'PropertyResponse'],\n",
       "       dtype='object'),\n",
       " (1523, 11),\n",
       " Title                object\n",
       " PositiveReview       object\n",
       " NegativeReview       object\n",
       " Score               float64\n",
       " GuestName            object\n",
       " GuestCountry         object\n",
       " RoomType             object\n",
       " NumberOfNights       object\n",
       " VisitDate            object\n",
       " GroupType            object\n",
       " PropertyResponse     object\n",
       " dtype: object)"
      ]
     },
     "execution_count": 2,
     "metadata": {},
     "output_type": "execute_result"
    }
   ],
   "source": [
    "df.columns,df.shape, df.dtypes"
   ]
  },
  {
   "cell_type": "code",
   "execution_count": 3,
   "id": "7eab93a1",
   "metadata": {},
   "outputs": [
    {
     "data": {
      "text/plain": [
       "Title                  2\n",
       "PositiveReview       748\n",
       "NegativeReview      1088\n",
       "Score                  0\n",
       "GuestName              0\n",
       "GuestCountry           0\n",
       "RoomType              63\n",
       "NumberOfNights         0\n",
       "VisitDate              0\n",
       "GroupType              0\n",
       "PropertyResponse    1400\n",
       "dtype: int64"
      ]
     },
     "execution_count": 3,
     "metadata": {},
     "output_type": "execute_result"
    }
   ],
   "source": [
    "df.isnull().sum()"
   ]
  },
  {
   "cell_type": "code",
   "execution_count": 4,
   "id": "674709f8",
   "metadata": {},
   "outputs": [
    {
     "data": {
      "text/plain": [
       "(Couple           536\n",
       " Family           415\n",
       " Solo traveler    395\n",
       " Group            177\n",
       " Name: GroupType, dtype: int64,\n",
       " 1 night      1151\n",
       " 2 nights      142\n",
       " 3 nights       92\n",
       " 4 nights       57\n",
       " 7 nights       35\n",
       " 5 nights       15\n",
       " 9 nights       10\n",
       " 6 nights        5\n",
       " 14 nights       4\n",
       " 11 nights       3\n",
       " 8 nights        3\n",
       " 12 nights       2\n",
       " 10 nights       2\n",
       " 16 nights       1\n",
       " 15 nights       1\n",
       " Name: NumberOfNights, dtype: int64,\n",
       " 10.0    701\n",
       " 9.0     361\n",
       " 8.0     307\n",
       " 7.0      89\n",
       " 6.0      32\n",
       " 5.0      13\n",
       " 4.0       6\n",
       " 1.0       5\n",
       " 3.0       4\n",
       " 9.6       2\n",
       " 2.0       2\n",
       " 7.9       1\n",
       " Name: Score, dtype: int64,\n",
       " Double Room with Balcony     702\n",
       " Double Room                  351\n",
       " Two-Bedroom Suite            125\n",
       " Standard Triple Room         107\n",
       " Budget Twin Room              80\n",
       " Family Suite with Balcony     69\n",
       " Suite with Balcony            26\n",
       " Name: RoomType, dtype: int64,\n",
       " United Kingdom        239\n",
       " Cyprus                183\n",
       " Israel                133\n",
       " France                 97\n",
       " Germany                91\n",
       "                      ... \n",
       " India                   1\n",
       " New Zealand             1\n",
       " Abkhazia, ​Georgia      1\n",
       " Angola                  1\n",
       " Nigeria                 1\n",
       " Name: GuestCountry, Length: 68, dtype: int64)"
      ]
     },
     "execution_count": 4,
     "metadata": {},
     "output_type": "execute_result"
    }
   ],
   "source": [
    "df['GroupType'].value_counts(),df['NumberOfNights'].value_counts(),df['Score'].value_counts(),df['RoomType'].value_counts(),df['GuestCountry'].value_counts()"
   ]
  },
  {
   "cell_type": "code",
   "execution_count": 5,
   "id": "9f5d45d0",
   "metadata": {},
   "outputs": [],
   "source": [
    "df['NumberOfNights'] = df['NumberOfNights'].str.split(expand=True).iloc[:,0]\n",
    "df['NumberOfNights'] = df['NumberOfNights'].astype('int64')"
   ]
  },
  {
   "cell_type": "code",
   "execution_count": 6,
   "id": "621e9315",
   "metadata": {},
   "outputs": [],
   "source": [
    "df['VisitDate'] = pd.to_datetime(df['VisitDate'])"
   ]
  },
  {
   "cell_type": "code",
   "execution_count": 7,
   "id": "b674e5fb",
   "metadata": {},
   "outputs": [
    {
     "name": "stdout",
     "output_type": "stream",
     "text": [
      "<class 'pandas.core.frame.DataFrame'>\n",
      "RangeIndex: 1523 entries, 0 to 1522\n",
      "Data columns (total 11 columns):\n",
      " #   Column            Non-Null Count  Dtype         \n",
      "---  ------            --------------  -----         \n",
      " 0   Title             1521 non-null   object        \n",
      " 1   PositiveReview    775 non-null    object        \n",
      " 2   NegativeReview    435 non-null    object        \n",
      " 3   Score             1523 non-null   float64       \n",
      " 4   GuestName         1523 non-null   object        \n",
      " 5   GuestCountry      1523 non-null   object        \n",
      " 6   RoomType          1460 non-null   object        \n",
      " 7   NumberOfNights    1523 non-null   int64         \n",
      " 8   VisitDate         1523 non-null   datetime64[ns]\n",
      " 9   GroupType         1523 non-null   object        \n",
      " 10  PropertyResponse  123 non-null    object        \n",
      "dtypes: datetime64[ns](1), float64(1), int64(1), object(8)\n",
      "memory usage: 131.0+ KB\n"
     ]
    }
   ],
   "source": [
    "df.info()"
   ]
  },
  {
   "cell_type": "code",
   "execution_count": 8,
   "id": "6be12bd7",
   "metadata": {},
   "outputs": [
    {
     "data": {
      "text/plain": [
       "<AxesSubplot:title={'center':'Unique features per Value'}>"
      ]
     },
     "execution_count": 8,
     "metadata": {},
     "output_type": "execute_result"
    },
    {
     "data": {
      "image/png": "[encoded data removed]",
      "text/plain": [
       "<Figure size 1080x288 with 1 Axes>"
      ]
     },
     "metadata": {
      "needs_background": "light"
     },
     "output_type": "display_data"
    }
   ],
   "source": [
    "unique_values= df.select_dtypes(exclude=\"number\").nunique().sort_values()\n",
    "unique_values.plot.bar(logy=True, figsize=(15,4), title=\"Unique features per Value\")"
   ]
  },
  {
   "cell_type": "code",
   "execution_count": 9,
   "id": "c8e6420c",
   "metadata": {},
   "outputs": [
    {
     "data": {
      "text/plain": [
       "(0,\n",
       " Title                  2\n",
       " PositiveReview       748\n",
       " NegativeReview      1088\n",
       " Score                  0\n",
       " GuestName              0\n",
       " GuestCountry           0\n",
       " RoomType              63\n",
       " NumberOfNights         0\n",
       " VisitDate              0\n",
       " GroupType              0\n",
       " PropertyResponse    1400\n",
       " dtype: int64)"
      ]
     },
     "execution_count": 9,
     "metadata": {},
     "output_type": "execute_result"
    }
   ],
   "source": [
    "df.duplicated().sum(), df.isna().sum()"
   ]
  },
  {
   "cell_type": "code",
   "execution_count": 10,
   "id": "6b30f00a",
   "metadata": {},
   "outputs": [
    {
     "data": {
      "image/png": "[encoded data removed]",
      "text/plain": [
       "<Figure size 720x720 with 1 Axes>"
      ]
     },
     "metadata": {
      "needs_background": "light"
     },
     "output_type": "display_data"
    }
   ],
   "source": [
    "plt.figure(figsize=(10, 10))\n",
    "plt.imshow(df.isna(), aspect=\"auto\", interpolation=\"nearest\", cmap=\"gray\")\n",
    "plt.xlabel(\"Column\")\n",
    "plt.ylabel(\"Data\");"
   ]
  },
  {
   "cell_type": "markdown",
   "id": "d8b58f94",
   "metadata": {},
   "source": [
    "# Text Cleaning"
   ]
  },
  {
   "cell_type": "code",
   "execution_count": 11,
   "id": "5d6016da",
   "metadata": {},
   "outputs": [],
   "source": [
    "import re\n",
    "import string\n",
    "\n",
    "sentence =  'booked two nights at the hotel'\n",
    "\n",
    "def text_cleaner(text): # Remove square brackets, punctuation and numbers\n",
    "    if not isinstance(text, float):\n",
    "        text = text.lower()\n",
    "        text = text.replace('\\n', ' ')\n",
    "        text = re.sub('\\[.*?\\]','',text) \n",
    "        text = re.sub('[%s]' % re.escape(string.punctuation),'',text)\n",
    "        text = re.sub('\\w*\\d\\w*','',text)\n",
    "        text = re.sub('[‘’“”…]','',text)\n",
    "    else:\n",
    "        text = sentence\n",
    "    return text\n",
    "\n",
    "cleaner = lambda x: text_cleaner(x)"
   ]
  },
  {
   "cell_type": "code",
   "execution_count": 12,
   "id": "30453a24",
   "metadata": {},
   "outputs": [
    {
     "data": {
      "text/html": [
       "<div>\n",
       "<style scoped>\n",
       "    .dataframe tbody tr th:only-of-type {\n",
       "        vertical-align: middle;\n",
       "    }\n",
       "\n",
       "    .dataframe tbody tr th {\n",
       "        vertical-align: top;\n",
       "    }\n",
       "\n",
       "    .dataframe thead th {\n",
       "        text-align: right;\n",
       "    }\n",
       "</style>\n",
       "<table border=\"1\" class=\"dataframe\">\n",
       "  <thead>\n",
       "    <tr style=\"text-align: right;\">\n",
       "      <th></th>\n",
       "      <th>Title</th>\n",
       "      <th>PositiveReview</th>\n",
       "      <th>NegativeReview</th>\n",
       "      <th>Score</th>\n",
       "      <th>GuestName</th>\n",
       "      <th>GuestCountry</th>\n",
       "      <th>RoomType</th>\n",
       "      <th>NumberOfNights</th>\n",
       "      <th>VisitDate</th>\n",
       "      <th>GroupType</th>\n",
       "      <th>PropertyResponse</th>\n",
       "      <th>cleaned_Title</th>\n",
       "    </tr>\n",
       "  </thead>\n",
       "  <tbody>\n",
       "    <tr>\n",
       "      <th>0</th>\n",
       "      <td>Wonderful place to stay.</td>\n",
       "      <td>New, comfortable apartments, close to the airp...</td>\n",
       "      <td>Nothing at all.</td>\n",
       "      <td>10.0</td>\n",
       "      <td>Olga</td>\n",
       "      <td>Norway</td>\n",
       "      <td>Budget Twin Room</td>\n",
       "      <td>1</td>\n",
       "      <td>2022-06-01</td>\n",
       "      <td>Solo traveler</td>\n",
       "      <td>NaN</td>\n",
       "      <td>wonderful place to stay</td>\n",
       "    </tr>\n",
       "    <tr>\n",
       "      <th>1</th>\n",
       "      <td>It was superb</td>\n",
       "      <td>We had a really pleasant stay! The staff was v...</td>\n",
       "      <td>NaN</td>\n",
       "      <td>10.0</td>\n",
       "      <td>Iwona</td>\n",
       "      <td>Poland</td>\n",
       "      <td>Double Room</td>\n",
       "      <td>3</td>\n",
       "      <td>2022-12-01</td>\n",
       "      <td>Family</td>\n",
       "      <td>NaN</td>\n",
       "      <td>it was superb</td>\n",
       "    </tr>\n",
       "    <tr>\n",
       "      <th>2</th>\n",
       "      <td>Very Good</td>\n",
       "      <td>the location is great and near the airport. bu...</td>\n",
       "      <td>NaN</td>\n",
       "      <td>8.0</td>\n",
       "      <td>Ruijia</td>\n",
       "      <td>Sweden</td>\n",
       "      <td>Double Room</td>\n",
       "      <td>1</td>\n",
       "      <td>2022-12-01</td>\n",
       "      <td>Solo traveler</td>\n",
       "      <td>NaN</td>\n",
       "      <td>very good</td>\n",
       "    </tr>\n",
       "    <tr>\n",
       "      <th>3</th>\n",
       "      <td>Wonderful</td>\n",
       "      <td>Great stuff\\nGreat Quality/price\\nClean</td>\n",
       "      <td>NaN</td>\n",
       "      <td>9.0</td>\n",
       "      <td>Theprincem</td>\n",
       "      <td>United Kingdom</td>\n",
       "      <td>Double Room with Balcony</td>\n",
       "      <td>2</td>\n",
       "      <td>2022-09-01</td>\n",
       "      <td>Solo traveler</td>\n",
       "      <td>NaN</td>\n",
       "      <td>wonderful</td>\n",
       "    </tr>\n",
       "    <tr>\n",
       "      <th>4</th>\n",
       "      <td>Fantastic value for a new, modern and spotless...</td>\n",
       "      <td>Clean and modern with very comfortable beds, i...</td>\n",
       "      <td>NaN</td>\n",
       "      <td>10.0</td>\n",
       "      <td>M</td>\n",
       "      <td>Switzerland</td>\n",
       "      <td>Family Suite with Balcony</td>\n",
       "      <td>1</td>\n",
       "      <td>2022-10-01</td>\n",
       "      <td>Family</td>\n",
       "      <td>NaN</td>\n",
       "      <td>fantastic value for a new modern and spotless ...</td>\n",
       "    </tr>\n",
       "  </tbody>\n",
       "</table>\n",
       "</div>"
      ],
      "text/plain": [
       "                                               Title  \\\n",
       "0                           Wonderful place to stay.   \n",
       "1                                      It was superb   \n",
       "2                                          Very Good   \n",
       "3                                          Wonderful   \n",
       "4  Fantastic value for a new, modern and spotless...   \n",
       "\n",
       "                                      PositiveReview   NegativeReview  Score  \\\n",
       "0  New, comfortable apartments, close to the airp...  Nothing at all.   10.0   \n",
       "1  We had a really pleasant stay! The staff was v...              NaN   10.0   \n",
       "2  the location is great and near the airport. bu...              NaN    8.0   \n",
       "3            Great stuff\\nGreat Quality/price\\nClean              NaN    9.0   \n",
       "4  Clean and modern with very comfortable beds, i...              NaN   10.0   \n",
       "\n",
       "    GuestName    GuestCountry                   RoomType  NumberOfNights  \\\n",
       "0        Olga          Norway           Budget Twin Room               1   \n",
       "1       Iwona          Poland                Double Room               3   \n",
       "2      Ruijia          Sweden                Double Room               1   \n",
       "3  Theprincem  United Kingdom   Double Room with Balcony               2   \n",
       "4           M     Switzerland  Family Suite with Balcony               1   \n",
       "\n",
       "   VisitDate      GroupType PropertyResponse  \\\n",
       "0 2022-06-01  Solo traveler              NaN   \n",
       "1 2022-12-01         Family              NaN   \n",
       "2 2022-12-01  Solo traveler              NaN   \n",
       "3 2022-09-01  Solo traveler              NaN   \n",
       "4 2022-10-01         Family              NaN   \n",
       "\n",
       "                                       cleaned_Title  \n",
       "0                            wonderful place to stay  \n",
       "1                                      it was superb  \n",
       "2                                          very good  \n",
       "3                                          wonderful  \n",
       "4  fantastic value for a new modern and spotless ...  "
      ]
     },
     "execution_count": 12,
     "metadata": {},
     "output_type": "execute_result"
    }
   ],
   "source": [
    "df['cleaned_Title'] = pd.DataFrame(df['Title'].apply(cleaner))\n",
    "df.head(5)"
   ]
  },
  {
   "cell_type": "markdown",
   "id": "3f8df9c7",
   "metadata": {},
   "source": [
    "# Sentiment Analysis of 'Title' Column"
   ]
  },
  {
   "cell_type": "code",
   "execution_count": 13,
   "id": "f1525a02",
   "metadata": {},
   "outputs": [],
   "source": [
    "import nltk\n",
    "from nltk.tokenize import word_tokenize\n",
    "from nltk.corpus import stopwords\n",
    "from nltk.sentiment.vader import SentimentIntensityAnalyzer"
   ]
  },
  {
   "cell_type": "code",
   "execution_count": 16,
   "id": "f238fcfd",
   "metadata": {},
   "outputs": [
    {
     "name": "stderr",
     "output_type": "stream",
     "text": [
      "[nltk_data] Downloading package vader_lexicon to\n",
      "[nltk_data]     C:\\Users\\deevy\\AppData\\Roaming\\nltk_data...\n"
     ]
    },
    {
     "data": {
      "text/plain": [
       "True"
      ]
     },
     "execution_count": 16,
     "metadata": {},
     "output_type": "execute_result"
    }
   ],
   "source": [
    "nltk.downloader.download('vader_lexicon')"
   ]
  },
  {
   "cell_type": "code",
   "execution_count": 14,
   "id": "2ec162a3",
   "metadata": {},
   "outputs": [],
   "source": [
    "def analyze_sentiment(clean_text):\n",
    "    score = SentimentIntensityAnalyzer().polarity_scores(clean_text)\n",
    "    if score['pos'] > score['neg']: \n",
    "        return 1\n",
    "    else: \n",
    "        return 0\n",
    "    \n",
    "analyzer = lambda x: analyze_sentiment(x)"
   ]
  },
  {
   "cell_type": "code",
   "execution_count": 17,
   "id": "5261b22b",
   "metadata": {},
   "outputs": [
    {
     "data": {
      "text/html": [
       "<div>\n",
       "<style scoped>\n",
       "    .dataframe tbody tr th:only-of-type {\n",
       "        vertical-align: middle;\n",
       "    }\n",
       "\n",
       "    .dataframe tbody tr th {\n",
       "        vertical-align: top;\n",
       "    }\n",
       "\n",
       "    .dataframe thead th {\n",
       "        text-align: right;\n",
       "    }\n",
       "</style>\n",
       "<table border=\"1\" class=\"dataframe\">\n",
       "  <thead>\n",
       "    <tr style=\"text-align: right;\">\n",
       "      <th></th>\n",
       "      <th>Title</th>\n",
       "      <th>PositiveReview</th>\n",
       "      <th>NegativeReview</th>\n",
       "      <th>Score</th>\n",
       "      <th>GuestName</th>\n",
       "      <th>GuestCountry</th>\n",
       "      <th>RoomType</th>\n",
       "      <th>NumberOfNights</th>\n",
       "      <th>VisitDate</th>\n",
       "      <th>GroupType</th>\n",
       "      <th>PropertyResponse</th>\n",
       "      <th>cleaned_Title</th>\n",
       "      <th>sentiment_Title</th>\n",
       "    </tr>\n",
       "  </thead>\n",
       "  <tbody>\n",
       "    <tr>\n",
       "      <th>0</th>\n",
       "      <td>Wonderful place to stay.</td>\n",
       "      <td>New, comfortable apartments, close to the airp...</td>\n",
       "      <td>Nothing at all.</td>\n",
       "      <td>10.0</td>\n",
       "      <td>Olga</td>\n",
       "      <td>Norway</td>\n",
       "      <td>Budget Twin Room</td>\n",
       "      <td>1</td>\n",
       "      <td>2022-06-01</td>\n",
       "      <td>Solo traveler</td>\n",
       "      <td>NaN</td>\n",
       "      <td>wonderful place to stay</td>\n",
       "      <td>1</td>\n",
       "    </tr>\n",
       "    <tr>\n",
       "      <th>1</th>\n",
       "      <td>It was superb</td>\n",
       "      <td>We had a really pleasant stay! The staff was v...</td>\n",
       "      <td>NaN</td>\n",
       "      <td>10.0</td>\n",
       "      <td>Iwona</td>\n",
       "      <td>Poland</td>\n",
       "      <td>Double Room</td>\n",
       "      <td>3</td>\n",
       "      <td>2022-12-01</td>\n",
       "      <td>Family</td>\n",
       "      <td>NaN</td>\n",
       "      <td>it was superb</td>\n",
       "      <td>1</td>\n",
       "    </tr>\n",
       "    <tr>\n",
       "      <th>2</th>\n",
       "      <td>Very Good</td>\n",
       "      <td>the location is great and near the airport. bu...</td>\n",
       "      <td>NaN</td>\n",
       "      <td>8.0</td>\n",
       "      <td>Ruijia</td>\n",
       "      <td>Sweden</td>\n",
       "      <td>Double Room</td>\n",
       "      <td>1</td>\n",
       "      <td>2022-12-01</td>\n",
       "      <td>Solo traveler</td>\n",
       "      <td>NaN</td>\n",
       "      <td>very good</td>\n",
       "      <td>1</td>\n",
       "    </tr>\n",
       "    <tr>\n",
       "      <th>3</th>\n",
       "      <td>Wonderful</td>\n",
       "      <td>Great stuff\\nGreat Quality/price\\nClean</td>\n",
       "      <td>NaN</td>\n",
       "      <td>9.0</td>\n",
       "      <td>Theprincem</td>\n",
       "      <td>United Kingdom</td>\n",
       "      <td>Double Room with Balcony</td>\n",
       "      <td>2</td>\n",
       "      <td>2022-09-01</td>\n",
       "      <td>Solo traveler</td>\n",
       "      <td>NaN</td>\n",
       "      <td>wonderful</td>\n",
       "      <td>1</td>\n",
       "    </tr>\n",
       "    <tr>\n",
       "      <th>4</th>\n",
       "      <td>Fantastic value for a new, modern and spotless...</td>\n",
       "      <td>Clean and modern with very comfortable beds, i...</td>\n",
       "      <td>NaN</td>\n",
       "      <td>10.0</td>\n",
       "      <td>M</td>\n",
       "      <td>Switzerland</td>\n",
       "      <td>Family Suite with Balcony</td>\n",
       "      <td>1</td>\n",
       "      <td>2022-10-01</td>\n",
       "      <td>Family</td>\n",
       "      <td>NaN</td>\n",
       "      <td>fantastic value for a new modern and spotless ...</td>\n",
       "      <td>1</td>\n",
       "    </tr>\n",
       "  </tbody>\n",
       "</table>\n",
       "</div>"
      ],
      "text/plain": [
       "                                               Title  \\\n",
       "0                           Wonderful place to stay.   \n",
       "1                                      It was superb   \n",
       "2                                          Very Good   \n",
       "3                                          Wonderful   \n",
       "4  Fantastic value for a new, modern and spotless...   \n",
       "\n",
       "                                      PositiveReview   NegativeReview  Score  \\\n",
       "0  New, comfortable apartments, close to the airp...  Nothing at all.   10.0   \n",
       "1  We had a really pleasant stay! The staff was v...              NaN   10.0   \n",
       "2  the location is great and near the airport. bu...              NaN    8.0   \n",
       "3            Great stuff\\nGreat Quality/price\\nClean              NaN    9.0   \n",
       "4  Clean and modern with very comfortable beds, i...              NaN   10.0   \n",
       "\n",
       "    GuestName    GuestCountry                   RoomType  NumberOfNights  \\\n",
       "0        Olga          Norway           Budget Twin Room               1   \n",
       "1       Iwona          Poland                Double Room               3   \n",
       "2      Ruijia          Sweden                Double Room               1   \n",
       "3  Theprincem  United Kingdom   Double Room with Balcony               2   \n",
       "4           M     Switzerland  Family Suite with Balcony               1   \n",
       "\n",
       "   VisitDate      GroupType PropertyResponse  \\\n",
       "0 2022-06-01  Solo traveler              NaN   \n",
       "1 2022-12-01         Family              NaN   \n",
       "2 2022-12-01  Solo traveler              NaN   \n",
       "3 2022-09-01  Solo traveler              NaN   \n",
       "4 2022-10-01         Family              NaN   \n",
       "\n",
       "                                       cleaned_Title  sentiment_Title  \n",
       "0                            wonderful place to stay                1  \n",
       "1                                      it was superb                1  \n",
       "2                                          very good                1  \n",
       "3                                          wonderful                1  \n",
       "4  fantastic value for a new modern and spotless ...                1  "
      ]
     },
     "execution_count": 17,
     "metadata": {},
     "output_type": "execute_result"
    }
   ],
   "source": [
    "df['sentiment_Title'] = pd.DataFrame(df['cleaned_Title'].apply(analyzer))\n",
    "df.head(5)"
   ]
  },
  {
   "cell_type": "markdown",
   "id": "e2aa3f95",
   "metadata": {},
   "source": [
    "# Visualization"
   ]
  },
  {
   "cell_type": "code",
   "execution_count": 19,
   "id": "1d9a8eb7",
   "metadata": {},
   "outputs": [
    {
     "name": "stdout",
     "output_type": "stream",
     "text": [
      "1    973\n",
      "0    550\n",
      "Name: sentiment_Title, dtype: int64\n"
     ]
    }
   ],
   "source": [
    "val_counts = df['sentiment_Title'].value_counts()\n",
    "print(val_counts)"
   ]
  },
  {
   "cell_type": "code",
   "execution_count": 24,
   "id": "b397fea4",
   "metadata": {},
   "outputs": [
    {
     "data": {
      "image/png": "[encoded data removed]",
      "text/plain": [
       "<Figure size 432x288 with 1 Axes>"
      ]
     },
     "metadata": {
      "needs_background": "light"
     },
     "output_type": "display_data"
    }
   ],
   "source": [
    "fig, ax = plt.subplots()\n",
    "ax.bar(val_counts.index, val_counts.values)\n",
    "ax.set_xticks([0, 1])\n",
    "ax.set_xticklabels(['0', '1'])\n",
    "ax.set_ylabel('Value Counts')\n",
    "ax.set_title('Count of Negative and Positive Reviews')\n",
    "plt.show()"
   ]
  },
  {
   "cell_type": "code",
   "execution_count": 25,
   "id": "92b52fe2",
   "metadata": {},
   "outputs": [
    {
     "data": {
      "text/html": [
       "<div>\n",
       "<style scoped>\n",
       "    .dataframe tbody tr th:only-of-type {\n",
       "        vertical-align: middle;\n",
       "    }\n",
       "\n",
       "    .dataframe tbody tr th {\n",
       "        vertical-align: top;\n",
       "    }\n",
       "\n",
       "    .dataframe thead th {\n",
       "        text-align: right;\n",
       "    }\n",
       "</style>\n",
       "<table border=\"1\" class=\"dataframe\">\n",
       "  <thead>\n",
       "    <tr style=\"text-align: right;\">\n",
       "      <th></th>\n",
       "      <th>GuestCountry</th>\n",
       "      <th>count</th>\n",
       "      <th>mean</th>\n",
       "    </tr>\n",
       "  </thead>\n",
       "  <tbody>\n",
       "    <tr>\n",
       "      <th>0</th>\n",
       "      <td>United Kingdom</td>\n",
       "      <td>239</td>\n",
       "      <td>8.960669</td>\n",
       "    </tr>\n",
       "    <tr>\n",
       "      <th>1</th>\n",
       "      <td>Cyprus</td>\n",
       "      <td>183</td>\n",
       "      <td>8.792350</td>\n",
       "    </tr>\n",
       "    <tr>\n",
       "      <th>2</th>\n",
       "      <td>Israel</td>\n",
       "      <td>133</td>\n",
       "      <td>9.120301</td>\n",
       "    </tr>\n",
       "    <tr>\n",
       "      <th>3</th>\n",
       "      <td>France</td>\n",
       "      <td>97</td>\n",
       "      <td>9.047423</td>\n",
       "    </tr>\n",
       "    <tr>\n",
       "      <th>4</th>\n",
       "      <td>Germany</td>\n",
       "      <td>91</td>\n",
       "      <td>8.835165</td>\n",
       "    </tr>\n",
       "    <tr>\n",
       "      <th>5</th>\n",
       "      <td>Russia</td>\n",
       "      <td>75</td>\n",
       "      <td>9.212000</td>\n",
       "    </tr>\n",
       "    <tr>\n",
       "      <th>6</th>\n",
       "      <td>Ukraine</td>\n",
       "      <td>62</td>\n",
       "      <td>9.064516</td>\n",
       "    </tr>\n",
       "    <tr>\n",
       "      <th>7</th>\n",
       "      <td>Greece</td>\n",
       "      <td>53</td>\n",
       "      <td>9.056604</td>\n",
       "    </tr>\n",
       "    <tr>\n",
       "      <th>8</th>\n",
       "      <td>United States of America</td>\n",
       "      <td>44</td>\n",
       "      <td>9.000000</td>\n",
       "    </tr>\n",
       "    <tr>\n",
       "      <th>9</th>\n",
       "      <td>Italy</td>\n",
       "      <td>41</td>\n",
       "      <td>8.341463</td>\n",
       "    </tr>\n",
       "  </tbody>\n",
       "</table>\n",
       "</div>"
      ],
      "text/plain": [
       "               GuestCountry  count      mean\n",
       "0            United Kingdom    239  8.960669\n",
       "1                    Cyprus    183  8.792350\n",
       "2                    Israel    133  9.120301\n",
       "3                    France     97  9.047423\n",
       "4                   Germany     91  8.835165\n",
       "5                    Russia     75  9.212000\n",
       "6                   Ukraine     62  9.064516\n",
       "7                    Greece     53  9.056604\n",
       "8  United States of America     44  9.000000\n",
       "9                     Italy     41  8.341463"
      ]
     },
     "execution_count": 25,
     "metadata": {},
     "output_type": "execute_result"
    }
   ],
   "source": [
    "top_10_countrys_score = df.groupby('GuestCountry')['Score'].agg(['count','mean']).sort_values(by='count',ascending=False).reset_index()[:10]\n",
    "top_10_countrys_score"
   ]
  },
  {
   "cell_type": "code",
   "execution_count": 52,
   "id": "b7924e05",
   "metadata": {},
   "outputs": [
    {
     "data": {
      "image/png": "[encoded data removed]",
      "text/plain": [
       "<Figure size 1296x576 with 1 Axes>"
      ]
     },
     "metadata": {
      "needs_background": "light"
     },
     "output_type": "display_data"
    }
   ],
   "source": [
    "fig, ax = plt.subplots(figsize=(18,8))\n",
    "ax.bar(top_10_countrys_score['GuestCountry'], top_10_countrys_score['mean'])\n",
    "ax.set_ylim([0, 10])\n",
    "ax.set_ylabel('Value Counts')\n",
    "ax.set_title('Top 10 Countries by Mean Score')\n",
    "plt.show()"
   ]
  },
  {
   "cell_type": "code",
   "execution_count": 44,
   "id": "95017e54",
   "metadata": {},
   "outputs": [
    {
     "data": {
      "text/html": [
       "<div>\n",
       "<style scoped>\n",
       "    .dataframe tbody tr th:only-of-type {\n",
       "        vertical-align: middle;\n",
       "    }\n",
       "\n",
       "    .dataframe tbody tr th {\n",
       "        vertical-align: top;\n",
       "    }\n",
       "\n",
       "    .dataframe thead th {\n",
       "        text-align: right;\n",
       "    }\n",
       "</style>\n",
       "<table border=\"1\" class=\"dataframe\">\n",
       "  <thead>\n",
       "    <tr style=\"text-align: right;\">\n",
       "      <th></th>\n",
       "      <th>GuestCountry</th>\n",
       "      <th>count</th>\n",
       "      <th>mean</th>\n",
       "    </tr>\n",
       "  </thead>\n",
       "  <tbody>\n",
       "    <tr>\n",
       "      <th>0</th>\n",
       "      <td>United Kingdom</td>\n",
       "      <td>239</td>\n",
       "      <td>1.748954</td>\n",
       "    </tr>\n",
       "    <tr>\n",
       "      <th>1</th>\n",
       "      <td>Cyprus</td>\n",
       "      <td>183</td>\n",
       "      <td>1.371585</td>\n",
       "    </tr>\n",
       "    <tr>\n",
       "      <th>2</th>\n",
       "      <td>Israel</td>\n",
       "      <td>133</td>\n",
       "      <td>1.383459</td>\n",
       "    </tr>\n",
       "    <tr>\n",
       "      <th>3</th>\n",
       "      <td>France</td>\n",
       "      <td>97</td>\n",
       "      <td>1.453608</td>\n",
       "    </tr>\n",
       "    <tr>\n",
       "      <th>4</th>\n",
       "      <td>Germany</td>\n",
       "      <td>91</td>\n",
       "      <td>1.714286</td>\n",
       "    </tr>\n",
       "    <tr>\n",
       "      <th>5</th>\n",
       "      <td>Russia</td>\n",
       "      <td>75</td>\n",
       "      <td>2.613333</td>\n",
       "    </tr>\n",
       "    <tr>\n",
       "      <th>6</th>\n",
       "      <td>Ukraine</td>\n",
       "      <td>62</td>\n",
       "      <td>2.048387</td>\n",
       "    </tr>\n",
       "    <tr>\n",
       "      <th>7</th>\n",
       "      <td>Greece</td>\n",
       "      <td>53</td>\n",
       "      <td>1.867925</td>\n",
       "    </tr>\n",
       "    <tr>\n",
       "      <th>8</th>\n",
       "      <td>United States of America</td>\n",
       "      <td>44</td>\n",
       "      <td>1.318182</td>\n",
       "    </tr>\n",
       "    <tr>\n",
       "      <th>9</th>\n",
       "      <td>Italy</td>\n",
       "      <td>41</td>\n",
       "      <td>1.390244</td>\n",
       "    </tr>\n",
       "  </tbody>\n",
       "</table>\n",
       "</div>"
      ],
      "text/plain": [
       "               GuestCountry  count      mean\n",
       "0            United Kingdom    239  1.748954\n",
       "1                    Cyprus    183  1.371585\n",
       "2                    Israel    133  1.383459\n",
       "3                    France     97  1.453608\n",
       "4                   Germany     91  1.714286\n",
       "5                    Russia     75  2.613333\n",
       "6                   Ukraine     62  2.048387\n",
       "7                    Greece     53  1.867925\n",
       "8  United States of America     44  1.318182\n",
       "9                     Italy     41  1.390244"
      ]
     },
     "execution_count": 44,
     "metadata": {},
     "output_type": "execute_result"
    }
   ],
   "source": [
    "top_10_countrys_night = df.groupby('GuestCountry')['NumberOfNights'].agg(['count','mean']).sort_values(by='count',ascending=False).reset_index()[:10]\n",
    "top_10_countrys_night"
   ]
  },
  {
   "cell_type": "code",
   "execution_count": 53,
   "id": "0671d486",
   "metadata": {},
   "outputs": [
    {
     "data": {
      "image/png": "[encoded data removed]",
      "text/plain": [
       "<Figure size 1152x648 with 1 Axes>"
      ]
     },
     "metadata": {
      "needs_background": "light"
     },
     "output_type": "display_data"
    }
   ],
   "source": [
    "fig, ax = plt.subplots(figsize=(16,9))\n",
    "ax.bar(top_10_countrys_night['GuestCountry'], top_10_countrys_night['mean'])    \n",
    "ax.set_ylabel('Value Counts')\n",
    "ax.set_title('Top 10 Countries by Mean Night Stays')\n",
    "plt.show()"
   ]
  },
  {
   "cell_type": "code",
   "execution_count": null,
   "id": "0717e7f6",
   "metadata": {},
   "outputs": [],
   "source": []
  }
 ],
 "metadata": {
  "kernelspec": {
   "display_name": "Python 3 (ipykernel)",
   "language": "python",
   "name": "python3"
  },
  "language_info": {
   "codemirror_mode": {
    "name": "ipython",
    "version": 3
   },
   "file_extension": ".py",
   "mimetype": "text/x-python",
   "name": "python",
   "nbconvert_exporter": "python",
   "pygments_lexer": "ipython3",
   "version": "3.9.12"
  }
 },
 "nbformat": 4,
 "nbformat_minor": 5
}
